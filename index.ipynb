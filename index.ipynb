{
 "cells": [
  {
   "cell_type": "code",
   "execution_count": 5,
   "id": "9a92062b-c3cc-41f1-8c0a-6cdae4540cab",
   "metadata": {},
   "outputs": [
    {
     "name": "stdout",
     "output_type": "stream",
     "text": [
      ">> Criteria global weights:\n",
      "   learning       : 0.3208\n",
      "   college_prep   : 0.2374\n",
      "   friends        : 0.1395\n",
      "   music_classes  : 0.1391\n",
      "   vocational_trng: 0.1285\n",
      "   school_life    : 0.0348\n",
      "\n",
      ">> Alternative (school) weights:\n",
      "   B  : 0.3797\n",
      "   A  : 0.3301\n",
      "   C  : 0.2902\n",
      "\n",
      ">> Consistency ratios (should all be < 0.1):\n",
      "   learning       : 0.0516\n",
      "   college_prep   : 0.0516\n",
      "   friends        : 0.0000\n",
      "   music_classes  : 0.0825\n",
      "   vocational_trng: 0.0000\n",
      "   school_life    : 0.0000\n",
      "   criteria       : 0.2272\n"
     ]
    }
   ],
   "source": [
    "# ─── Cell: AHP Analysis ────────────────────────────────────────────────────────\n",
    "\n",
    "import pandas as pd\n",
    "import numpy as np\n",
    "import networkx as nx\n",
    "import ahpy\n",
    "\n",
    "# 1) load your Excel file (must be in the same folder as index.ipynb)\n",
    "xls = 'comparisons.xlsx'\n",
    "\n",
    "# 2) read each sheet as an adjacency matrix (rows & cols are named)\n",
    "pairwise_learning       = pd.read_excel(xls, sheet_name='learning',       index_col=0)\n",
    "pairwise_college_prep   = pd.read_excel(xls, sheet_name='college_prep',   index_col=0)\n",
    "pairwise_friends        = pd.read_excel(xls, sheet_name='friends',        index_col=0)\n",
    "pairwise_music_classes  = pd.read_excel(xls, sheet_name='music_classes',  index_col=0)\n",
    "pairwise_vocational_trng= pd.read_excel(xls, sheet_name='vocational_trng',index_col=0)\n",
    "pairwise_school_life    = pd.read_excel(xls, sheet_name='school_life',    index_col=0)\n",
    "pairwise_criteria       = pd.read_excel(xls, sheet_name='criteria',       index_col=0)\n",
    "\n",
    "# helper to turn an adjacency df into the { (i,j): weight } dict\n",
    "def to_pairs(df):\n",
    "    G = nx.from_pandas_adjacency(df, create_using=nx.MultiDiGraph())\n",
    "    return {\n",
    "        (u, v): d['weight']\n",
    "        for u, v, d in G.edges(data=True)\n",
    "        if np.isfinite(d['weight'])\n",
    "    }\n",
    "\n",
    "# 3) build the six Compare objects\n",
    "learning        = ahpy.Compare('learning',         to_pairs(pairwise_learning),        random_index='saaty')\n",
    "college_prep    = ahpy.Compare('college_prep',     to_pairs(pairwise_college_prep),    random_index='saaty')\n",
    "friends         = ahpy.Compare('friends',          to_pairs(pairwise_friends),         random_index='saaty')\n",
    "music_classes   = ahpy.Compare('music_classes',    to_pairs(pairwise_music_classes),   random_index='saaty')\n",
    "vocational_trng = ahpy.Compare('vocational_trng',  to_pairs(pairwise_vocational_trng), random_index='saaty')\n",
    "school_life     = ahpy.Compare('school_life',      to_pairs(pairwise_school_life),     random_index='saaty')\n",
    "\n",
    "criteria        = ahpy.Compare('criteria',         to_pairs(pairwise_criteria),        random_index='saaty')\n",
    "# hook the six criteria‐subcriteria into the hierarchy\n",
    "criteria.add_children([learning,\n",
    "                       college_prep,\n",
    "                       friends,\n",
    "                       music_classes,\n",
    "                       vocational_trng,\n",
    "                       school_life])\n",
    "\n",
    "# 4) print out exactly the numbers you need\n",
    "print(\">> Criteria global weights:\")\n",
    "for name, w in criteria.global_weights.items():\n",
    "    print(f\"   {name:<15}: {w:.4f}\")\n",
    "\n",
    "print(\"\\n>> Alternative (school) weights:\")\n",
    "for name, w in criteria.target_weights.items():\n",
    "    print(f\"   {name:<3}: {w:.4f}\")\n",
    "\n",
    "print(\"\\n>> Consistency ratios (should all be < 0.1):\")\n",
    "for comp in [learning, college_prep, friends, music_classes, vocational_trng, school_life, criteria]:\n",
    "    print(f\"   {comp.name:<15}: {comp.consistency_ratio:.4f}\")\n"
   ]
  },
  {
   "cell_type": "code",
   "execution_count": null,
   "id": "32aad00d-0fd9-48af-9d04-ccf37e11e242",
   "metadata": {},
   "outputs": [],
   "source": []
  }
 ],
 "metadata": {
  "kernelspec": {
   "display_name": "Python 3 (ipykernel)",
   "language": "python",
   "name": "python3"
  },
  "language_info": {
   "codemirror_mode": {
    "name": "ipython",
    "version": 3
   },
   "file_extension": ".py",
   "mimetype": "text/x-python",
   "name": "python",
   "nbconvert_exporter": "python",
   "pygments_lexer": "ipython3",
   "version": "3.12.2"
  }
 },
 "nbformat": 4,
 "nbformat_minor": 5
}
